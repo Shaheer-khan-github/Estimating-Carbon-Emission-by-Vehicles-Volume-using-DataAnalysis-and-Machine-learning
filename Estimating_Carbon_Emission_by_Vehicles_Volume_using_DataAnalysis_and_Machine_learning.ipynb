{
  "nbformat": 4,
  "nbformat_minor": 0,
  "metadata": {
    "colab": {
      "name": "Estimating Carbon Emission by Vehicles Volume using DataAnalysis and Machine learning.ipynb",
      "provenance": [],
      "collapsed_sections": [],
      "toc_visible": true,
      "authorship_tag": "ABX9TyMFHG0rZrOW3hPR+EtQvT/u",
      "include_colab_link": true
    },
    "kernelspec": {
      "name": "python3",
      "display_name": "Python 3"
    }
  },
  "cells": [
    {
      "cell_type": "markdown",
      "metadata": {
        "id": "view-in-github",
        "colab_type": "text"
      },
      "source": [
        "<a href=\"https://colab.research.google.com/github/Shaheer-khan-github/Estimating-Carbon-Emission-by-Vehicles-Volume-using-DataAnalysis-and-Machine-learning/blob/main/Estimating_Carbon_Emission_by_Vehicles_Volume_using_DataAnalysis_and_Machine_learning.ipynb\" target=\"_parent\"><img src=\"https://colab.research.google.com/assets/colab-badge.svg\" alt=\"Open In Colab\"/></a>"
      ]
    },
    {
      "cell_type": "markdown",
      "metadata": {
        "id": "Ds9xlsBkxipR"
      },
      "source": [
        "### **Import dependencies**"
      ]
    },
    {
      "cell_type": "code",
      "metadata": {
        "id": "UL7Buwl2Afeq"
      },
      "source": [
        "import pandas as pd \r\n",
        "import matplotlib.pyplot as plt\r\n",
        "import seaborn as sns\r\n",
        "import numpy as np\r\n",
        "from sklearn.model_selection import train_test_split\r\n",
        "from sklearn.svm import SVR\r\n",
        "from sklearn.metrics import r2_score,mean_squared_error"
      ],
      "execution_count": 7,
      "outputs": []
    },
    {
      "cell_type": "markdown",
      "metadata": {
        "id": "sU4NxjEuOMR4"
      },
      "source": [
        "### **Cloning Github Repository**"
      ]
    },
    {
      "cell_type": "code",
      "metadata": {
        "colab": {
          "base_uri": "https://localhost:8080/"
        },
        "id": "p1HPDtWSKOCC",
        "outputId": "431d1968-910e-47c5-8ad9-26e181f962c6"
      },
      "source": [
        "!git clone https://github.com/Shaheer-khan-github/Estimating-Carbon-Emission-by-Vehicles-Volume-using-DataAnalysis-and-Machine-learning.git"
      ],
      "execution_count": 8,
      "outputs": [
        {
          "output_type": "stream",
          "text": [
            "Cloning into 'Estimating-Carbon-Emission-by-Vehicles-Volume-using-DataAnalysis-and-Machine-learning'...\n",
            "remote: Enumerating objects: 6, done.\u001b[K\n",
            "remote: Counting objects:  16% (1/6)\u001b[K\rremote: Counting objects:  33% (2/6)\u001b[K\rremote: Counting objects:  50% (3/6)\u001b[K\rremote: Counting objects:  66% (4/6)\u001b[K\rremote: Counting objects:  83% (5/6)\u001b[K\rremote: Counting objects: 100% (6/6)\u001b[K\rremote: Counting objects: 100% (6/6), done.\u001b[K\n",
            "remote: Compressing objects:  20% (1/5)\u001b[K\rremote: Compressing objects:  40% (2/5)\u001b[K\rremote: Compressing objects:  60% (3/5)\u001b[K\rremote: Compressing objects:  80% (4/5)\u001b[K\rremote: Compressing objects: 100% (5/5)\u001b[K\rremote: Compressing objects: 100% (5/5), done.\u001b[K\n",
            "Unpacking objects:  16% (1/6)   \rUnpacking objects:  33% (2/6)   \rUnpacking objects:  50% (3/6)   \rUnpacking objects:  66% (4/6)   \rremote: Total 6 (delta 0), reused 0 (delta 0), pack-reused 0\u001b[K\n",
            "Unpacking objects:  83% (5/6)   \rUnpacking objects: 100% (6/6)   \rUnpacking objects: 100% (6/6), done.\n"
          ],
          "name": "stdout"
        }
      ]
    },
    {
      "cell_type": "code",
      "metadata": {
        "colab": {
          "base_uri": "https://localhost:8080/"
        },
        "id": "9i97HsQ8Nl2d",
        "outputId": "72325911-16ab-4df1-c1c4-0aead7d0b1a7"
      },
      "source": [
        "cd /content/Estimating-Carbon-Emission-by-Vehicles-Volume-using-DataAnalysis-and-Machine-learning/"
      ],
      "execution_count": 9,
      "outputs": [
        {
          "output_type": "stream",
          "text": [
            "/content/Estimating-Carbon-Emission-by-Vehicles-Volume-using-DataAnalysis-and-Machine-learning\n"
          ],
          "name": "stdout"
        }
      ]
    },
    {
      "cell_type": "code",
      "metadata": {
        "colab": {
          "base_uri": "https://localhost:8080/",
          "height": 309
        },
        "id": "fodO4ICSChmP",
        "outputId": "09f2bb08-68b8-4a8f-84a5-86a042a436d1"
      },
      "source": [
        "df = pd.read_csv('yarra-traffic-counts.csv')\r\n",
        "df.head()"
      ],
      "execution_count": 11,
      "outputs": [
        {
          "output_type": "execute_result",
          "data": {
            "text/html": [
              "<div>\n",
              "<style scoped>\n",
              "    .dataframe tbody tr th:only-of-type {\n",
              "        vertical-align: middle;\n",
              "    }\n",
              "\n",
              "    .dataframe tbody tr th {\n",
              "        vertical-align: top;\n",
              "    }\n",
              "\n",
              "    .dataframe thead th {\n",
              "        text-align: right;\n",
              "    }\n",
              "</style>\n",
              "<table border=\"1\" class=\"dataframe\">\n",
              "  <thead>\n",
              "    <tr style=\"text-align: right;\">\n",
              "      <th></th>\n",
              "      <th>date_captured</th>\n",
              "      <th>road_name</th>\n",
              "      <th>section_start</th>\n",
              "      <th>section_end</th>\n",
              "      <th>suburb</th>\n",
              "      <th>direction_1</th>\n",
              "      <th>vehicles_1</th>\n",
              "      <th>direction_2</th>\n",
              "      <th>vehicles_2</th>\n",
              "      <th>volume_per_day</th>\n",
              "      <th>85th_percentile_speed</th>\n",
              "    </tr>\n",
              "  </thead>\n",
              "  <tbody>\n",
              "    <tr>\n",
              "      <th>0</th>\n",
              "      <td>2015-Jan</td>\n",
              "      <td>Butler Street</td>\n",
              "      <td>Jonas Street</td>\n",
              "      <td>Shelley Street</td>\n",
              "      <td>Richmond</td>\n",
              "      <td>East/North</td>\n",
              "      <td>192</td>\n",
              "      <td>West/South</td>\n",
              "      <td>261</td>\n",
              "      <td>453</td>\n",
              "      <td>28.4</td>\n",
              "    </tr>\n",
              "    <tr>\n",
              "      <th>1</th>\n",
              "      <td>2015-Jan</td>\n",
              "      <td>Rae Street</td>\n",
              "      <td>Liverpool Street</td>\n",
              "      <td>Scotchmer Street</td>\n",
              "      <td>Fitzroy North</td>\n",
              "      <td>East/North</td>\n",
              "      <td>1115</td>\n",
              "      <td>West/South</td>\n",
              "      <td>784</td>\n",
              "      <td>1899</td>\n",
              "      <td>40.7</td>\n",
              "    </tr>\n",
              "    <tr>\n",
              "      <th>2</th>\n",
              "      <td>2015-Jan</td>\n",
              "      <td>Rae Street</td>\n",
              "      <td>Reid Street</td>\n",
              "      <td>Scotchmer Street</td>\n",
              "      <td>Fitzroy North</td>\n",
              "      <td>East/North</td>\n",
              "      <td>955</td>\n",
              "      <td>West/South</td>\n",
              "      <td>1531</td>\n",
              "      <td>2486</td>\n",
              "      <td>40.7</td>\n",
              "    </tr>\n",
              "    <tr>\n",
              "      <th>3</th>\n",
              "      <td>2015-Jan</td>\n",
              "      <td>Shelley Street</td>\n",
              "      <td>Butler Street</td>\n",
              "      <td>Victoria Street</td>\n",
              "      <td>Richmond</td>\n",
              "      <td>East/North</td>\n",
              "      <td>1659</td>\n",
              "      <td>West/South</td>\n",
              "      <td>1638</td>\n",
              "      <td>3297</td>\n",
              "      <td>35.3</td>\n",
              "    </tr>\n",
              "    <tr>\n",
              "      <th>4</th>\n",
              "      <td>2010-Jan</td>\n",
              "      <td>Hood Street</td>\n",
              "      <td>Hoddle Street</td>\n",
              "      <td>Islington Street</td>\n",
              "      <td>Collingwood</td>\n",
              "      <td>East/North</td>\n",
              "      <td>438</td>\n",
              "      <td>West/South</td>\n",
              "      <td>12</td>\n",
              "      <td>450</td>\n",
              "      <td>32.0</td>\n",
              "    </tr>\n",
              "  </tbody>\n",
              "</table>\n",
              "</div>"
            ],
            "text/plain": [
              "  date_captured       road_name  ... volume_per_day 85th_percentile_speed\n",
              "0      2015-Jan   Butler Street  ...            453                  28.4\n",
              "1      2015-Jan      Rae Street  ...           1899                  40.7\n",
              "2      2015-Jan      Rae Street  ...           2486                  40.7\n",
              "3      2015-Jan  Shelley Street  ...           3297                  35.3\n",
              "4      2010-Jan     Hood Street  ...            450                  32.0\n",
              "\n",
              "[5 rows x 11 columns]"
            ]
          },
          "metadata": {
            "tags": []
          },
          "execution_count": 11
        }
      ]
    },
    {
      "cell_type": "markdown",
      "metadata": {
        "id": "hT58ekkTx2x7"
      },
      "source": [
        "### **Exploratory Data Analysis**"
      ]
    },
    {
      "cell_type": "code",
      "metadata": {
        "colab": {
          "base_uri": "https://localhost:8080/"
        },
        "id": "QxtSsKs3-TzD",
        "outputId": "9b3999a7-df5b-4040-9f57-5fba34798b27"
      },
      "source": [
        "df.info()"
      ],
      "execution_count": 12,
      "outputs": [
        {
          "output_type": "stream",
          "text": [
            "<class 'pandas.core.frame.DataFrame'>\n",
            "RangeIndex: 1521 entries, 0 to 1520\n",
            "Data columns (total 11 columns):\n",
            " #   Column                 Non-Null Count  Dtype  \n",
            "---  ------                 --------------  -----  \n",
            " 0   date_captured          1521 non-null   object \n",
            " 1   road_name              1521 non-null   object \n",
            " 2   section_start          1521 non-null   object \n",
            " 3   section_end            1515 non-null   object \n",
            " 4   suburb                 1521 non-null   object \n",
            " 5   direction_1            1521 non-null   object \n",
            " 6   vehicles_1             1521 non-null   int64  \n",
            " 7   direction_2            1521 non-null   object \n",
            " 8   vehicles_2             1521 non-null   int64  \n",
            " 9   volume_per_day         1521 non-null   int64  \n",
            " 10  85th_percentile_speed  1521 non-null   float64\n",
            "dtypes: float64(1), int64(3), object(7)\n",
            "memory usage: 130.8+ KB\n"
          ],
          "name": "stdout"
        }
      ]
    },
    {
      "cell_type": "code",
      "metadata": {
        "colab": {
          "base_uri": "https://localhost:8080/",
          "height": 297
        },
        "id": "aHRtzL1C-YOS",
        "outputId": "aa4cbf89-9ae4-466b-b3ab-5b9b684d9e5d"
      },
      "source": [
        "df.describe()"
      ],
      "execution_count": 13,
      "outputs": [
        {
          "output_type": "execute_result",
          "data": {
            "text/html": [
              "<div>\n",
              "<style scoped>\n",
              "    .dataframe tbody tr th:only-of-type {\n",
              "        vertical-align: middle;\n",
              "    }\n",
              "\n",
              "    .dataframe tbody tr th {\n",
              "        vertical-align: top;\n",
              "    }\n",
              "\n",
              "    .dataframe thead th {\n",
              "        text-align: right;\n",
              "    }\n",
              "</style>\n",
              "<table border=\"1\" class=\"dataframe\">\n",
              "  <thead>\n",
              "    <tr style=\"text-align: right;\">\n",
              "      <th></th>\n",
              "      <th>vehicles_1</th>\n",
              "      <th>vehicles_2</th>\n",
              "      <th>volume_per_day</th>\n",
              "      <th>85th_percentile_speed</th>\n",
              "    </tr>\n",
              "  </thead>\n",
              "  <tbody>\n",
              "    <tr>\n",
              "      <th>count</th>\n",
              "      <td>1521.000000</td>\n",
              "      <td>1521.000000</td>\n",
              "      <td>1521.000000</td>\n",
              "      <td>1521.000000</td>\n",
              "    </tr>\n",
              "    <tr>\n",
              "      <th>mean</th>\n",
              "      <td>1000.863248</td>\n",
              "      <td>1003.417488</td>\n",
              "      <td>2004.280736</td>\n",
              "      <td>37.780237</td>\n",
              "    </tr>\n",
              "    <tr>\n",
              "      <th>std</th>\n",
              "      <td>1400.111989</td>\n",
              "      <td>1446.280627</td>\n",
              "      <td>2718.209947</td>\n",
              "      <td>6.893218</td>\n",
              "    </tr>\n",
              "    <tr>\n",
              "      <th>min</th>\n",
              "      <td>0.000000</td>\n",
              "      <td>0.000000</td>\n",
              "      <td>6.000000</td>\n",
              "      <td>14.000000</td>\n",
              "    </tr>\n",
              "    <tr>\n",
              "      <th>25%</th>\n",
              "      <td>214.000000</td>\n",
              "      <td>187.000000</td>\n",
              "      <td>480.000000</td>\n",
              "      <td>34.200000</td>\n",
              "    </tr>\n",
              "    <tr>\n",
              "      <th>50%</th>\n",
              "      <td>495.000000</td>\n",
              "      <td>483.000000</td>\n",
              "      <td>975.000000</td>\n",
              "      <td>38.200000</td>\n",
              "    </tr>\n",
              "    <tr>\n",
              "      <th>75%</th>\n",
              "      <td>1080.000000</td>\n",
              "      <td>1072.000000</td>\n",
              "      <td>2030.000000</td>\n",
              "      <td>41.900000</td>\n",
              "    </tr>\n",
              "    <tr>\n",
              "      <th>max</th>\n",
              "      <td>12068.000000</td>\n",
              "      <td>12497.000000</td>\n",
              "      <td>23457.000000</td>\n",
              "      <td>79.500000</td>\n",
              "    </tr>\n",
              "  </tbody>\n",
              "</table>\n",
              "</div>"
            ],
            "text/plain": [
              "         vehicles_1    vehicles_2  volume_per_day  85th_percentile_speed\n",
              "count   1521.000000   1521.000000     1521.000000            1521.000000\n",
              "mean    1000.863248   1003.417488     2004.280736              37.780237\n",
              "std     1400.111989   1446.280627     2718.209947               6.893218\n",
              "min        0.000000      0.000000        6.000000              14.000000\n",
              "25%      214.000000    187.000000      480.000000              34.200000\n",
              "50%      495.000000    483.000000      975.000000              38.200000\n",
              "75%     1080.000000   1072.000000     2030.000000              41.900000\n",
              "max    12068.000000  12497.000000    23457.000000              79.500000"
            ]
          },
          "metadata": {
            "tags": []
          },
          "execution_count": 13
        }
      ]
    },
    {
      "cell_type": "code",
      "metadata": {
        "colab": {
          "base_uri": "https://localhost:8080/",
          "height": 284
        },
        "id": "xjlgCEEZ2I6M",
        "outputId": "29110b88-9553-416c-e9ab-5219161653a9"
      },
      "source": [
        "print('Road_Name:\\n')\r\n",
        "df['road_name'].value_counts()[:10].to_frame().style.bar()"
      ],
      "execution_count": 14,
      "outputs": [
        {
          "output_type": "stream",
          "text": [
            "Road_Name:\n",
            "\n"
          ],
          "name": "stdout"
        },
        {
          "output_type": "execute_result",
          "data": {
            "text/html": [
              "<style  type=\"text/css\" >\n",
              "#T_a55fd03e_8745_11eb_8826_0242ac1c0002row0_col0{\n",
              "            width:  10em;\n",
              "             height:  80%;\n",
              "            background:  linear-gradient(90deg,#d65f5f 100.0%, transparent 100.0%);\n",
              "        }#T_a55fd03e_8745_11eb_8826_0242ac1c0002row1_col0{\n",
              "            width:  10em;\n",
              "             height:  80%;\n",
              "            background:  linear-gradient(90deg,#d65f5f 84.2%, transparent 84.2%);\n",
              "        }#T_a55fd03e_8745_11eb_8826_0242ac1c0002row2_col0{\n",
              "            width:  10em;\n",
              "             height:  80%;\n",
              "            background:  linear-gradient(90deg,#d65f5f 63.2%, transparent 63.2%);\n",
              "        }#T_a55fd03e_8745_11eb_8826_0242ac1c0002row3_col0{\n",
              "            width:  10em;\n",
              "             height:  80%;\n",
              "            background:  linear-gradient(90deg,#d65f5f 15.8%, transparent 15.8%);\n",
              "        }#T_a55fd03e_8745_11eb_8826_0242ac1c0002row4_col0,#T_a55fd03e_8745_11eb_8826_0242ac1c0002row5_col0,#T_a55fd03e_8745_11eb_8826_0242ac1c0002row6_col0{\n",
              "            width:  10em;\n",
              "             height:  80%;\n",
              "            background:  linear-gradient(90deg,#d65f5f 10.5%, transparent 10.5%);\n",
              "        }#T_a55fd03e_8745_11eb_8826_0242ac1c0002row7_col0{\n",
              "            width:  10em;\n",
              "             height:  80%;\n",
              "            background:  linear-gradient(90deg,#d65f5f 5.3%, transparent 5.3%);\n",
              "        }#T_a55fd03e_8745_11eb_8826_0242ac1c0002row8_col0,#T_a55fd03e_8745_11eb_8826_0242ac1c0002row9_col0{\n",
              "            width:  10em;\n",
              "             height:  80%;\n",
              "        }</style><table id=\"T_a55fd03e_8745_11eb_8826_0242ac1c0002\" ><thead>    <tr>        <th class=\"blank level0\" ></th>        <th class=\"col_heading level0 col0\" >road_name</th>    </tr></thead><tbody>\n",
              "                <tr>\n",
              "                        <th id=\"T_a55fd03e_8745_11eb_8826_0242ac1c0002level0_row0\" class=\"row_heading level0 row0\" >Wellington Street</th>\n",
              "                        <td id=\"T_a55fd03e_8745_11eb_8826_0242ac1c0002row0_col0\" class=\"data row0 col0\" >33</td>\n",
              "            </tr>\n",
              "            <tr>\n",
              "                        <th id=\"T_a55fd03e_8745_11eb_8826_0242ac1c0002level0_row1\" class=\"row_heading level0 row1\" >Park Street</th>\n",
              "                        <td id=\"T_a55fd03e_8745_11eb_8826_0242ac1c0002row1_col0\" class=\"data row1 col0\" >30</td>\n",
              "            </tr>\n",
              "            <tr>\n",
              "                        <th id=\"T_a55fd03e_8745_11eb_8826_0242ac1c0002level0_row2\" class=\"row_heading level0 row2\" >Rae Street</th>\n",
              "                        <td id=\"T_a55fd03e_8745_11eb_8826_0242ac1c0002row2_col0\" class=\"data row2 col0\" >26</td>\n",
              "            </tr>\n",
              "            <tr>\n",
              "                        <th id=\"T_a55fd03e_8745_11eb_8826_0242ac1c0002level0_row3\" class=\"row_heading level0 row3\" >Rose Street</th>\n",
              "                        <td id=\"T_a55fd03e_8745_11eb_8826_0242ac1c0002row3_col0\" class=\"data row3 col0\" >17</td>\n",
              "            </tr>\n",
              "            <tr>\n",
              "                        <th id=\"T_a55fd03e_8745_11eb_8826_0242ac1c0002level0_row4\" class=\"row_heading level0 row4\" >George Street</th>\n",
              "                        <td id=\"T_a55fd03e_8745_11eb_8826_0242ac1c0002row4_col0\" class=\"data row4 col0\" >16</td>\n",
              "            </tr>\n",
              "            <tr>\n",
              "                        <th id=\"T_a55fd03e_8745_11eb_8826_0242ac1c0002level0_row5\" class=\"row_heading level0 row5\" >Napier Street</th>\n",
              "                        <td id=\"T_a55fd03e_8745_11eb_8826_0242ac1c0002row5_col0\" class=\"data row5 col0\" >16</td>\n",
              "            </tr>\n",
              "            <tr>\n",
              "                        <th id=\"T_a55fd03e_8745_11eb_8826_0242ac1c0002level0_row6\" class=\"row_heading level0 row6\" >Gold Street</th>\n",
              "                        <td id=\"T_a55fd03e_8745_11eb_8826_0242ac1c0002row6_col0\" class=\"data row6 col0\" >16</td>\n",
              "            </tr>\n",
              "            <tr>\n",
              "                        <th id=\"T_a55fd03e_8745_11eb_8826_0242ac1c0002level0_row7\" class=\"row_heading level0 row7\" >Scotchmer Street</th>\n",
              "                        <td id=\"T_a55fd03e_8745_11eb_8826_0242ac1c0002row7_col0\" class=\"data row7 col0\" >15</td>\n",
              "            </tr>\n",
              "            <tr>\n",
              "                        <th id=\"T_a55fd03e_8745_11eb_8826_0242ac1c0002level0_row8\" class=\"row_heading level0 row8\" >Gore Street</th>\n",
              "                        <td id=\"T_a55fd03e_8745_11eb_8826_0242ac1c0002row8_col0\" class=\"data row8 col0\" >14</td>\n",
              "            </tr>\n",
              "            <tr>\n",
              "                        <th id=\"T_a55fd03e_8745_11eb_8826_0242ac1c0002level0_row9\" class=\"row_heading level0 row9\" >Miller Street</th>\n",
              "                        <td id=\"T_a55fd03e_8745_11eb_8826_0242ac1c0002row9_col0\" class=\"data row9 col0\" >14</td>\n",
              "            </tr>\n",
              "    </tbody></table>"
            ],
            "text/plain": [
              "<pandas.io.formats.style.Styler at 0x7fef52356ad0>"
            ]
          },
          "metadata": {
            "tags": []
          },
          "execution_count": 14
        }
      ]
    },
    {
      "cell_type": "code",
      "metadata": {
        "colab": {
          "base_uri": "https://localhost:8080/",
          "height": 284
        },
        "id": "9F7YzkVN0-dL",
        "outputId": "21e150aa-6416-48a0-da3e-687fb0fb71c9"
      },
      "source": [
        "print('Section Start:\\n')\r\n",
        "df.section_start.value_counts()[:10].to_frame().style.bar()"
      ],
      "execution_count": 15,
      "outputs": [
        {
          "output_type": "stream",
          "text": [
            "Section Start:\n",
            "\n"
          ],
          "name": "stdout"
        },
        {
          "output_type": "execute_result",
          "data": {
            "text/html": [
              "<style  type=\"text/css\" >\n",
              "#T_a6fdd724_8745_11eb_8826_0242ac1c0002row0_col0{\n",
              "            width:  10em;\n",
              "             height:  80%;\n",
              "            background:  linear-gradient(90deg,#d65f5f 100.0%, transparent 100.0%);\n",
              "        }#T_a6fdd724_8745_11eb_8826_0242ac1c0002row1_col0{\n",
              "            width:  10em;\n",
              "             height:  80%;\n",
              "            background:  linear-gradient(90deg,#d65f5f 55.3%, transparent 55.3%);\n",
              "        }#T_a6fdd724_8745_11eb_8826_0242ac1c0002row2_col0{\n",
              "            width:  10em;\n",
              "             height:  80%;\n",
              "            background:  linear-gradient(90deg,#d65f5f 44.7%, transparent 44.7%);\n",
              "        }#T_a6fdd724_8745_11eb_8826_0242ac1c0002row3_col0,#T_a6fdd724_8745_11eb_8826_0242ac1c0002row4_col0{\n",
              "            width:  10em;\n",
              "             height:  80%;\n",
              "            background:  linear-gradient(90deg,#d65f5f 23.7%, transparent 23.7%);\n",
              "        }#T_a6fdd724_8745_11eb_8826_0242ac1c0002row5_col0{\n",
              "            width:  10em;\n",
              "             height:  80%;\n",
              "            background:  linear-gradient(90deg,#d65f5f 21.1%, transparent 21.1%);\n",
              "        }#T_a6fdd724_8745_11eb_8826_0242ac1c0002row6_col0{\n",
              "            width:  10em;\n",
              "             height:  80%;\n",
              "            background:  linear-gradient(90deg,#d65f5f 10.5%, transparent 10.5%);\n",
              "        }#T_a6fdd724_8745_11eb_8826_0242ac1c0002row7_col0{\n",
              "            width:  10em;\n",
              "             height:  80%;\n",
              "            background:  linear-gradient(90deg,#d65f5f 7.9%, transparent 7.9%);\n",
              "        }#T_a6fdd724_8745_11eb_8826_0242ac1c0002row8_col0,#T_a6fdd724_8745_11eb_8826_0242ac1c0002row9_col0{\n",
              "            width:  10em;\n",
              "             height:  80%;\n",
              "        }</style><table id=\"T_a6fdd724_8745_11eb_8826_0242ac1c0002\" ><thead>    <tr>        <th class=\"blank level0\" ></th>        <th class=\"col_heading level0 col0\" >section_start</th>    </tr></thead><tbody>\n",
              "                <tr>\n",
              "                        <th id=\"T_a6fdd724_8745_11eb_8826_0242ac1c0002level0_row0\" class=\"row_heading level0 row0\" >Gipps Street</th>\n",
              "                        <td id=\"T_a6fdd724_8745_11eb_8826_0242ac1c0002row0_col0\" class=\"data row0 col0\" >62</td>\n",
              "            </tr>\n",
              "            <tr>\n",
              "                        <th id=\"T_a6fdd724_8745_11eb_8826_0242ac1c0002level0_row1\" class=\"row_heading level0 row1\" >Nicholson Street</th>\n",
              "                        <td id=\"T_a6fdd724_8745_11eb_8826_0242ac1c0002row1_col0\" class=\"data row1 col0\" >45</td>\n",
              "            </tr>\n",
              "            <tr>\n",
              "                        <th id=\"T_a6fdd724_8745_11eb_8826_0242ac1c0002level0_row2\" class=\"row_heading level0 row2\" >Burnley Street</th>\n",
              "                        <td id=\"T_a6fdd724_8745_11eb_8826_0242ac1c0002row2_col0\" class=\"data row2 col0\" >41</td>\n",
              "            </tr>\n",
              "            <tr>\n",
              "                        <th id=\"T_a6fdd724_8745_11eb_8826_0242ac1c0002level0_row3\" class=\"row_heading level0 row3\" >Bridge Road</th>\n",
              "                        <td id=\"T_a6fdd724_8745_11eb_8826_0242ac1c0002row3_col0\" class=\"data row3 col0\" >33</td>\n",
              "            </tr>\n",
              "            <tr>\n",
              "                        <th id=\"T_a6fdd724_8745_11eb_8826_0242ac1c0002level0_row4\" class=\"row_heading level0 row4\" >Church Street</th>\n",
              "                        <td id=\"T_a6fdd724_8745_11eb_8826_0242ac1c0002row4_col0\" class=\"data row4 col0\" >33</td>\n",
              "            </tr>\n",
              "            <tr>\n",
              "                        <th id=\"T_a6fdd724_8745_11eb_8826_0242ac1c0002level0_row5\" class=\"row_heading level0 row5\" >Gold Street</th>\n",
              "                        <td id=\"T_a6fdd724_8745_11eb_8826_0242ac1c0002row5_col0\" class=\"data row5 col0\" >32</td>\n",
              "            </tr>\n",
              "            <tr>\n",
              "                        <th id=\"T_a6fdd724_8745_11eb_8826_0242ac1c0002level0_row6\" class=\"row_heading level0 row6\" >Johnston Street</th>\n",
              "                        <td id=\"T_a6fdd724_8745_11eb_8826_0242ac1c0002row6_col0\" class=\"data row6 col0\" >28</td>\n",
              "            </tr>\n",
              "            <tr>\n",
              "                        <th id=\"T_a6fdd724_8745_11eb_8826_0242ac1c0002level0_row7\" class=\"row_heading level0 row7\" >Alexandra Parade</th>\n",
              "                        <td id=\"T_a6fdd724_8745_11eb_8826_0242ac1c0002row7_col0\" class=\"data row7 col0\" >27</td>\n",
              "            </tr>\n",
              "            <tr>\n",
              "                        <th id=\"T_a6fdd724_8745_11eb_8826_0242ac1c0002level0_row8\" class=\"row_heading level0 row8\" >Langridge Street</th>\n",
              "                        <td id=\"T_a6fdd724_8745_11eb_8826_0242ac1c0002row8_col0\" class=\"data row8 col0\" >24</td>\n",
              "            </tr>\n",
              "            <tr>\n",
              "                        <th id=\"T_a6fdd724_8745_11eb_8826_0242ac1c0002level0_row9\" class=\"row_heading level0 row9\" >Hoddle Street</th>\n",
              "                        <td id=\"T_a6fdd724_8745_11eb_8826_0242ac1c0002row9_col0\" class=\"data row9 col0\" >24</td>\n",
              "            </tr>\n",
              "    </tbody></table>"
            ],
            "text/plain": [
              "<pandas.io.formats.style.Styler at 0x7fef51f8b090>"
            ]
          },
          "metadata": {
            "tags": []
          },
          "execution_count": 15
        }
      ]
    },
    {
      "cell_type": "code",
      "metadata": {
        "colab": {
          "base_uri": "https://localhost:8080/",
          "height": 284
        },
        "id": "W-_Y413V31-b",
        "outputId": "7d2564fb-aa76-49cb-bbe7-cc2ef5168bd4"
      },
      "source": [
        "print('Section End:\\n')\r\n",
        "df.section_end.value_counts()[:10].to_frame().style.bar()"
      ],
      "execution_count": 16,
      "outputs": [
        {
          "output_type": "stream",
          "text": [
            "Section End:\n",
            "\n"
          ],
          "name": "stdout"
        },
        {
          "output_type": "execute_result",
          "data": {
            "text/html": [
              "<style  type=\"text/css\" >\n",
              "#T_a8a87e26_8745_11eb_8826_0242ac1c0002row0_col0{\n",
              "            width:  10em;\n",
              "             height:  80%;\n",
              "            background:  linear-gradient(90deg,#d65f5f 100.0%, transparent 100.0%);\n",
              "        }#T_a8a87e26_8745_11eb_8826_0242ac1c0002row1_col0{\n",
              "            width:  10em;\n",
              "             height:  80%;\n",
              "            background:  linear-gradient(90deg,#d65f5f 35.7%, transparent 35.7%);\n",
              "        }#T_a8a87e26_8745_11eb_8826_0242ac1c0002row2_col0,#T_a8a87e26_8745_11eb_8826_0242ac1c0002row3_col0{\n",
              "            width:  10em;\n",
              "             height:  80%;\n",
              "            background:  linear-gradient(90deg,#d65f5f 32.1%, transparent 32.1%);\n",
              "        }#T_a8a87e26_8745_11eb_8826_0242ac1c0002row4_col0{\n",
              "            width:  10em;\n",
              "             height:  80%;\n",
              "            background:  linear-gradient(90deg,#d65f5f 21.4%, transparent 21.4%);\n",
              "        }#T_a8a87e26_8745_11eb_8826_0242ac1c0002row5_col0{\n",
              "            width:  10em;\n",
              "             height:  80%;\n",
              "            background:  linear-gradient(90deg,#d65f5f 14.3%, transparent 14.3%);\n",
              "        }#T_a8a87e26_8745_11eb_8826_0242ac1c0002row6_col0{\n",
              "            width:  10em;\n",
              "             height:  80%;\n",
              "            background:  linear-gradient(90deg,#d65f5f 10.7%, transparent 10.7%);\n",
              "        }#T_a8a87e26_8745_11eb_8826_0242ac1c0002row7_col0,#T_a8a87e26_8745_11eb_8826_0242ac1c0002row8_col0{\n",
              "            width:  10em;\n",
              "             height:  80%;\n",
              "            background:  linear-gradient(90deg,#d65f5f 3.6%, transparent 3.6%);\n",
              "        }#T_a8a87e26_8745_11eb_8826_0242ac1c0002row9_col0{\n",
              "            width:  10em;\n",
              "             height:  80%;\n",
              "        }</style><table id=\"T_a8a87e26_8745_11eb_8826_0242ac1c0002\" ><thead>    <tr>        <th class=\"blank level0\" ></th>        <th class=\"col_heading level0 col0\" >section_end</th>    </tr></thead><tbody>\n",
              "                <tr>\n",
              "                        <th id=\"T_a8a87e26_8745_11eb_8826_0242ac1c0002level0_row0\" class=\"row_heading level0 row0\" >Wellington Street</th>\n",
              "                        <td id=\"T_a8a87e26_8745_11eb_8826_0242ac1c0002row0_col0\" class=\"data row0 col0\" >51</td>\n",
              "            </tr>\n",
              "            <tr>\n",
              "                        <th id=\"T_a8a87e26_8745_11eb_8826_0242ac1c0002level0_row1\" class=\"row_heading level0 row1\" >Swan Street</th>\n",
              "                        <td id=\"T_a8a87e26_8745_11eb_8826_0242ac1c0002row1_col0\" class=\"data row1 col0\" >33</td>\n",
              "            </tr>\n",
              "            <tr>\n",
              "                        <th id=\"T_a8a87e26_8745_11eb_8826_0242ac1c0002level0_row2\" class=\"row_heading level0 row2\" >Park Street</th>\n",
              "                        <td id=\"T_a8a87e26_8745_11eb_8826_0242ac1c0002row2_col0\" class=\"data row2 col0\" >32</td>\n",
              "            </tr>\n",
              "            <tr>\n",
              "                        <th id=\"T_a8a87e26_8745_11eb_8826_0242ac1c0002level0_row3\" class=\"row_heading level0 row3\" >Rathdowne Street</th>\n",
              "                        <td id=\"T_a8a87e26_8745_11eb_8826_0242ac1c0002row3_col0\" class=\"data row3 col0\" >32</td>\n",
              "            </tr>\n",
              "            <tr>\n",
              "                        <th id=\"T_a8a87e26_8745_11eb_8826_0242ac1c0002level0_row4\" class=\"row_heading level0 row4\" >Rae Street</th>\n",
              "                        <td id=\"T_a8a87e26_8745_11eb_8826_0242ac1c0002row4_col0\" class=\"data row4 col0\" >29</td>\n",
              "            </tr>\n",
              "            <tr>\n",
              "                        <th id=\"T_a8a87e26_8745_11eb_8826_0242ac1c0002level0_row5\" class=\"row_heading level0 row5\" >Victoria Street</th>\n",
              "                        <td id=\"T_a8a87e26_8745_11eb_8826_0242ac1c0002row5_col0\" class=\"data row5 col0\" >27</td>\n",
              "            </tr>\n",
              "            <tr>\n",
              "                        <th id=\"T_a8a87e26_8745_11eb_8826_0242ac1c0002level0_row6\" class=\"row_heading level0 row6\" >Smith Street</th>\n",
              "                        <td id=\"T_a8a87e26_8745_11eb_8826_0242ac1c0002row6_col0\" class=\"data row6 col0\" >26</td>\n",
              "            </tr>\n",
              "            <tr>\n",
              "                        <th id=\"T_a8a87e26_8745_11eb_8826_0242ac1c0002level0_row7\" class=\"row_heading level0 row7\" >Scotchmer Street</th>\n",
              "                        <td id=\"T_a8a87e26_8745_11eb_8826_0242ac1c0002row7_col0\" class=\"data row7 col0\" >24</td>\n",
              "            </tr>\n",
              "            <tr>\n",
              "                        <th id=\"T_a8a87e26_8745_11eb_8826_0242ac1c0002level0_row8\" class=\"row_heading level0 row8\" >Roseneath Street</th>\n",
              "                        <td id=\"T_a8a87e26_8745_11eb_8826_0242ac1c0002row8_col0\" class=\"data row8 col0\" >24</td>\n",
              "            </tr>\n",
              "            <tr>\n",
              "                        <th id=\"T_a8a87e26_8745_11eb_8826_0242ac1c0002level0_row9\" class=\"row_heading level0 row9\" >Hoddle Street</th>\n",
              "                        <td id=\"T_a8a87e26_8745_11eb_8826_0242ac1c0002row9_col0\" class=\"data row9 col0\" >23</td>\n",
              "            </tr>\n",
              "    </tbody></table>"
            ],
            "text/plain": [
              "<pandas.io.formats.style.Styler at 0x7fef51f91e50>"
            ]
          },
          "metadata": {
            "tags": []
          },
          "execution_count": 16
        }
      ]
    },
    {
      "cell_type": "code",
      "metadata": {
        "colab": {
          "base_uri": "https://localhost:8080/",
          "height": 179
        },
        "id": "aTHePzAI_m3o",
        "outputId": "bf6a974c-ad1a-475e-e957-0e1fcaaf5faf"
      },
      "source": [
        "print('Suburb:\\n')\r\n",
        "df.suburb.value_counts()[:5].to_frame().style.bar()"
      ],
      "execution_count": 17,
      "outputs": [
        {
          "output_type": "stream",
          "text": [
            "Suburb:\n",
            "\n"
          ],
          "name": "stdout"
        },
        {
          "output_type": "execute_result",
          "data": {
            "text/html": [
              "<style  type=\"text/css\" >\n",
              "#T_aab2d996_8745_11eb_8826_0242ac1c0002row0_col0{\n",
              "            width:  10em;\n",
              "             height:  80%;\n",
              "            background:  linear-gradient(90deg,#d65f5f 100.0%, transparent 100.0%);\n",
              "        }#T_aab2d996_8745_11eb_8826_0242ac1c0002row1_col0{\n",
              "            width:  10em;\n",
              "             height:  80%;\n",
              "            background:  linear-gradient(90deg,#d65f5f 24.6%, transparent 24.6%);\n",
              "        }#T_aab2d996_8745_11eb_8826_0242ac1c0002row2_col0{\n",
              "            width:  10em;\n",
              "             height:  80%;\n",
              "            background:  linear-gradient(90deg,#d65f5f 15.0%, transparent 15.0%);\n",
              "        }#T_aab2d996_8745_11eb_8826_0242ac1c0002row3_col0{\n",
              "            width:  10em;\n",
              "             height:  80%;\n",
              "            background:  linear-gradient(90deg,#d65f5f 8.2%, transparent 8.2%);\n",
              "        }#T_aab2d996_8745_11eb_8826_0242ac1c0002row4_col0{\n",
              "            width:  10em;\n",
              "             height:  80%;\n",
              "        }</style><table id=\"T_aab2d996_8745_11eb_8826_0242ac1c0002\" ><thead>    <tr>        <th class=\"blank level0\" ></th>        <th class=\"col_heading level0 col0\" >suburb</th>    </tr></thead><tbody>\n",
              "                <tr>\n",
              "                        <th id=\"T_aab2d996_8745_11eb_8826_0242ac1c0002level0_row0\" class=\"row_heading level0 row0\" >Richmond</th>\n",
              "                        <td id=\"T_aab2d996_8745_11eb_8826_0242ac1c0002row0_col0\" class=\"data row0 col0\" >469</td>\n",
              "            </tr>\n",
              "            <tr>\n",
              "                        <th id=\"T_aab2d996_8745_11eb_8826_0242ac1c0002level0_row1\" class=\"row_heading level0 row1\" >Collingwood</th>\n",
              "                        <td id=\"T_aab2d996_8745_11eb_8826_0242ac1c0002row1_col0\" class=\"data row1 col0\" >212</td>\n",
              "            </tr>\n",
              "            <tr>\n",
              "                        <th id=\"T_aab2d996_8745_11eb_8826_0242ac1c0002level0_row2\" class=\"row_heading level0 row2\" >Fitzroy North</th>\n",
              "                        <td id=\"T_aab2d996_8745_11eb_8826_0242ac1c0002row2_col0\" class=\"data row2 col0\" >179</td>\n",
              "            </tr>\n",
              "            <tr>\n",
              "                        <th id=\"T_aab2d996_8745_11eb_8826_0242ac1c0002level0_row3\" class=\"row_heading level0 row3\" >Carlton North</th>\n",
              "                        <td id=\"T_aab2d996_8745_11eb_8826_0242ac1c0002row3_col0\" class=\"data row3 col0\" >156</td>\n",
              "            </tr>\n",
              "            <tr>\n",
              "                        <th id=\"T_aab2d996_8745_11eb_8826_0242ac1c0002level0_row4\" class=\"row_heading level0 row4\" >Fitzroy</th>\n",
              "                        <td id=\"T_aab2d996_8745_11eb_8826_0242ac1c0002row4_col0\" class=\"data row4 col0\" >128</td>\n",
              "            </tr>\n",
              "    </tbody></table>"
            ],
            "text/plain": [
              "<pandas.io.formats.style.Styler at 0x7fef51f91b10>"
            ]
          },
          "metadata": {
            "tags": []
          },
          "execution_count": 17
        }
      ]
    },
    {
      "cell_type": "code",
      "metadata": {
        "colab": {
          "base_uri": "https://localhost:8080/",
          "height": 204
        },
        "id": "oYpSxPXXSm4x",
        "outputId": "77cc494c-065e-4514-fd19-a054c4bfa5e4"
      },
      "source": [
        "df_volume_pd_sum = df.groupby([\"road_name\",'section_start','section_end','suburb']).volume_per_day.sum().reset_index()\r\n",
        "df_volume_pd_sum = df_volume_pd_sum.sort_values(by=['volume_per_day'],ascending=False)\r\n",
        "df_volume_pd_sum.head()"
      ],
      "execution_count": 18,
      "outputs": [
        {
          "output_type": "execute_result",
          "data": {
            "text/html": [
              "<div>\n",
              "<style scoped>\n",
              "    .dataframe tbody tr th:only-of-type {\n",
              "        vertical-align: middle;\n",
              "    }\n",
              "\n",
              "    .dataframe tbody tr th {\n",
              "        vertical-align: top;\n",
              "    }\n",
              "\n",
              "    .dataframe thead th {\n",
              "        text-align: right;\n",
              "    }\n",
              "</style>\n",
              "<table border=\"1\" class=\"dataframe\">\n",
              "  <thead>\n",
              "    <tr style=\"text-align: right;\">\n",
              "      <th></th>\n",
              "      <th>road_name</th>\n",
              "      <th>section_start</th>\n",
              "      <th>section_end</th>\n",
              "      <th>suburb</th>\n",
              "      <th>volume_per_day</th>\n",
              "    </tr>\n",
              "  </thead>\n",
              "  <tbody>\n",
              "    <tr>\n",
              "      <th>670</th>\n",
              "      <td>Rathdowne Street</td>\n",
              "      <td>Newry Street</td>\n",
              "      <td>Ogrady Street</td>\n",
              "      <td>Carlton North</td>\n",
              "      <td>38030</td>\n",
              "    </tr>\n",
              "    <tr>\n",
              "      <th>585</th>\n",
              "      <td>Nicholson Street</td>\n",
              "      <td>Studley Street</td>\n",
              "      <td>Yarra Street</td>\n",
              "      <td>Abbotsford</td>\n",
              "      <td>37915</td>\n",
              "    </tr>\n",
              "    <tr>\n",
              "      <th>671</th>\n",
              "      <td>Rathdowne Street</td>\n",
              "      <td>Pigdon Street</td>\n",
              "      <td>Richardson Street</td>\n",
              "      <td>Carlton North</td>\n",
              "      <td>35749</td>\n",
              "    </tr>\n",
              "    <tr>\n",
              "      <th>743</th>\n",
              "      <td>Scotchmer Street</td>\n",
              "      <td>Best Street</td>\n",
              "      <td>Birkenhead Street</td>\n",
              "      <td>Fitzroy North</td>\n",
              "      <td>34679</td>\n",
              "    </tr>\n",
              "    <tr>\n",
              "      <th>747</th>\n",
              "      <td>Scotchmer Street</td>\n",
              "      <td>Mark Street</td>\n",
              "      <td>Woodhead Street</td>\n",
              "      <td>Fitzroy North</td>\n",
              "      <td>33402</td>\n",
              "    </tr>\n",
              "  </tbody>\n",
              "</table>\n",
              "</div>"
            ],
            "text/plain": [
              "            road_name   section_start  ...         suburb volume_per_day\n",
              "670  Rathdowne Street    Newry Street  ...  Carlton North          38030\n",
              "585  Nicholson Street  Studley Street  ...     Abbotsford          37915\n",
              "671  Rathdowne Street   Pigdon Street  ...  Carlton North          35749\n",
              "743  Scotchmer Street     Best Street  ...  Fitzroy North          34679\n",
              "747  Scotchmer Street     Mark Street  ...  Fitzroy North          33402\n",
              "\n",
              "[5 rows x 5 columns]"
            ]
          },
          "metadata": {
            "tags": []
          },
          "execution_count": 18
        }
      ]
    },
    {
      "cell_type": "code",
      "metadata": {
        "colab": {
          "base_uri": "https://localhost:8080/",
          "height": 312
        },
        "id": "eFAXc58uYWUw",
        "outputId": "78c62ad9-7550-4f04-886e-04178a83b4e8"
      },
      "source": [
        "df_volume_pd_sum = df_volume_pd_sum[:10]\r\n",
        "df_volume_pd_sum.plot(kind='barh')\r\n",
        "plt.title('10 top Number of locations record where volume of vehicles are high')\r\n",
        "plt.xlabel('Volume')\r\n",
        "plt.ylabel('Rows Index')"
      ],
      "execution_count": 19,
      "outputs": [
        {
          "output_type": "execute_result",
          "data": {
            "text/plain": [
              "Text(0, 0.5, 'Rows Index')"
            ]
          },
          "metadata": {
            "tags": []
          },
          "execution_count": 19
        },
        {
          "output_type": "display_data",
          "data": {
            "image/png": "[encoded data removed]",
            "text/plain": [
              "<Figure size 432x288 with 1 Axes>"
            ]
          },
          "metadata": {
            "tags": [],
            "needs_background": "light"
          }
        }
      ]
    },
    {
      "cell_type": "code",
      "metadata": {
        "colab": {
          "base_uri": "https://localhost:8080/",
          "height": 173
        },
        "id": "JpewsqRcjXlc",
        "outputId": "c34274e0-c9eb-4bd2-a3cc-83f35b2b41d7"
      },
      "source": [
        "correlation = df.corr()\r\n",
        "correlation"
      ],
      "execution_count": 20,
      "outputs": [
        {
          "output_type": "execute_result",
          "data": {
            "text/html": [
              "<div>\n",
              "<style scoped>\n",
              "    .dataframe tbody tr th:only-of-type {\n",
              "        vertical-align: middle;\n",
              "    }\n",
              "\n",
              "    .dataframe tbody tr th {\n",
              "        vertical-align: top;\n",
              "    }\n",
              "\n",
              "    .dataframe thead th {\n",
              "        text-align: right;\n",
              "    }\n",
              "</style>\n",
              "<table border=\"1\" class=\"dataframe\">\n",
              "  <thead>\n",
              "    <tr style=\"text-align: right;\">\n",
              "      <th></th>\n",
              "      <th>vehicles_1</th>\n",
              "      <th>vehicles_2</th>\n",
              "      <th>volume_per_day</th>\n",
              "      <th>85th_percentile_speed</th>\n",
              "    </tr>\n",
              "  </thead>\n",
              "  <tbody>\n",
              "    <tr>\n",
              "      <th>vehicles_1</th>\n",
              "      <td>1.000000</td>\n",
              "      <td>0.823876</td>\n",
              "      <td>0.953447</td>\n",
              "      <td>0.352604</td>\n",
              "    </tr>\n",
              "    <tr>\n",
              "      <th>vehicles_2</th>\n",
              "      <td>0.823876</td>\n",
              "      <td>1.000000</td>\n",
              "      <td>0.956438</td>\n",
              "      <td>0.342199</td>\n",
              "    </tr>\n",
              "    <tr>\n",
              "      <th>volume_per_day</th>\n",
              "      <td>0.953447</td>\n",
              "      <td>0.956438</td>\n",
              "      <td>1.000000</td>\n",
              "      <td>0.363696</td>\n",
              "    </tr>\n",
              "    <tr>\n",
              "      <th>85th_percentile_speed</th>\n",
              "      <td>0.352604</td>\n",
              "      <td>0.342199</td>\n",
              "      <td>0.363696</td>\n",
              "      <td>1.000000</td>\n",
              "    </tr>\n",
              "  </tbody>\n",
              "</table>\n",
              "</div>"
            ],
            "text/plain": [
              "                       vehicles_1  ...  85th_percentile_speed\n",
              "vehicles_1               1.000000  ...               0.352604\n",
              "vehicles_2               0.823876  ...               0.342199\n",
              "volume_per_day           0.953447  ...               0.363696\n",
              "85th_percentile_speed    0.352604  ...               1.000000\n",
              "\n",
              "[4 rows x 4 columns]"
            ]
          },
          "metadata": {
            "tags": []
          },
          "execution_count": 20
        }
      ]
    },
    {
      "cell_type": "code",
      "metadata": {
        "colab": {
          "base_uri": "https://localhost:8080/",
          "height": 427
        },
        "id": "rqmIqSk2fmHZ",
        "outputId": "20059491-768b-47ae-dee4-6cdb7d2c1c6a"
      },
      "source": [
        "# Visualization of correlation matrix heatmap \r\n",
        "plt.figure(figsize=(5,5))\r\n",
        "sns.heatmap(correlation, annot = True)\r\n",
        "plt.show()"
      ],
      "execution_count": 21,
      "outputs": [
        {
          "output_type": "display_data",
          "data": {
            "image/png": "[encoded data removed]",
            "text/plain": [
              "<Figure size 360x360 with 2 Axes>"
            ]
          },
          "metadata": {
            "tags": [],
            "needs_background": "light"
          }
        }
      ]
    },
    {
      "cell_type": "markdown",
      "metadata": {
        "id": "xLjgRlP_YUCG"
      },
      "source": [
        "### **Model Fitting**"
      ]
    },
    {
      "cell_type": "code",
      "metadata": {
        "id": "7GCRvBJycbCO"
      },
      "source": [
        "# Independent variables\r\n",
        "x = df.iloc[:, [6,8,10]].values\r\n",
        "\r\n",
        "# Dependent variable\r\n",
        "y = df.iloc[:, 9].values"
      ],
      "execution_count": 22,
      "outputs": []
    },
    {
      "cell_type": "code",
      "metadata": {
        "colab": {
          "base_uri": "https://localhost:8080/"
        },
        "id": "c-E_QKSPeKcW",
        "outputId": "ad3e1ad0-103e-4cee-be9f-4a2f56f3da0e"
      },
      "source": [
        "print('Shape of independent variables:\\n',x.shape,'\\n','-' * 80)\r\n",
        "print('Shape of dependent variable:\\n',y.shape)"
      ],
      "execution_count": 23,
      "outputs": [
        {
          "output_type": "stream",
          "text": [
            "Shape of independent variables:\n",
            " (1521, 3) \n",
            " --------------------------------------------------------------------------------\n",
            "Shape of dependent variable:\n",
            " (1521,)\n"
          ],
          "name": "stdout"
        }
      ]
    },
    {
      "cell_type": "code",
      "metadata": {
        "id": "BMOLYmmRdGlV"
      },
      "source": [
        "y=y.reshape(-1,1)"
      ],
      "execution_count": 24,
      "outputs": []
    },
    {
      "cell_type": "code",
      "metadata": {
        "colab": {
          "base_uri": "https://localhost:8080/"
        },
        "id": "LZS0y2dFfqnV",
        "outputId": "dc45bdae-892b-4db8-ff95-b5c225f79451"
      },
      "source": [
        "y.shape"
      ],
      "execution_count": 25,
      "outputs": [
        {
          "output_type": "execute_result",
          "data": {
            "text/plain": [
              "(1521, 1)"
            ]
          },
          "metadata": {
            "tags": []
          },
          "execution_count": 25
        }
      ]
    },
    {
      "cell_type": "code",
      "metadata": {
        "id": "LrvFEIxYwhjl"
      },
      "source": [
        "# Standard Scaling\r\n",
        "from sklearn.preprocessing import StandardScaler\r\n",
        "sc_X = StandardScaler()\r\n",
        "sc_y = StandardScaler()\r\n",
        "x = sc_X.fit_transform(x)\r\n",
        "y = sc_y.fit_transform(y)"
      ],
      "execution_count": 26,
      "outputs": []
    },
    {
      "cell_type": "code",
      "metadata": {
        "id": "sTyvCuktho0A"
      },
      "source": [
        "# Choose the model\r\n",
        "SVR_model= SVR()"
      ],
      "execution_count": 27,
      "outputs": []
    },
    {
      "cell_type": "code",
      "metadata": {
        "id": "h2En67gGdtrS"
      },
      "source": [
        "x_train, x_test, y_train, y_test = train_test_split(x, y, test_size = 0.40, random_state=42)"
      ],
      "execution_count": 28,
      "outputs": []
    },
    {
      "cell_type": "code",
      "metadata": {
        "id": "QawN2UiTxVNF",
        "colab": {
          "base_uri": "https://localhost:8080/"
        },
        "outputId": "d8fdfee4-da61-44a3-9653-a12ebe3e6c71"
      },
      "source": [
        "# Train the model\r\n",
        "SVR_model.fit(x_train,y_train)"
      ],
      "execution_count": 29,
      "outputs": [
        {
          "output_type": "stream",
          "text": [
            "/usr/local/lib/python3.7/dist-packages/sklearn/utils/validation.py:760: DataConversionWarning: A column-vector y was passed when a 1d array was expected. Please change the shape of y to (n_samples, ), for example using ravel().\n",
            "  y = column_or_1d(y, warn=True)\n"
          ],
          "name": "stderr"
        },
        {
          "output_type": "execute_result",
          "data": {
            "text/plain": [
              "SVR(C=1.0, cache_size=200, coef0=0.0, degree=3, epsilon=0.1, gamma='scale',\n",
              "    kernel='rbf', max_iter=-1, shrinking=True, tol=0.001, verbose=False)"
            ]
          },
          "metadata": {
            "tags": []
          },
          "execution_count": 29
        }
      ]
    },
    {
      "cell_type": "markdown",
      "metadata": {
        "id": "bcnHwdOgf8Mu"
      },
      "source": [
        "### **Evaluation**"
      ]
    },
    {
      "cell_type": "code",
      "metadata": {
        "id": "VkBlzj1gxaIB",
        "colab": {
          "base_uri": "https://localhost:8080/"
        },
        "outputId": "760fd9cd-c903-4526-931c-47c3f7e2f831"
      },
      "source": [
        "y_pred = SVR_model.predict(x_test)\r\n",
        "y_pred[:15]"
      ],
      "execution_count": 30,
      "outputs": [
        {
          "output_type": "execute_result",
          "data": {
            "text/plain": [
              "array([ 1.32071977, -0.36243866, -0.55748861, -0.27590357, -0.58373703,\n",
              "       -0.61277244, -0.58988244, -0.27887184, -0.61225762, -0.57813324,\n",
              "        0.02535599, -0.20902739, -0.60794781, -0.18566219, -0.59926502])"
            ]
          },
          "metadata": {
            "tags": []
          },
          "execution_count": 30
        }
      ]
    },
    {
      "cell_type": "code",
      "metadata": {
        "colab": {
          "base_uri": "https://localhost:8080/"
        },
        "id": "8WexyRtVukl1",
        "outputId": "4d542551-520c-4584-fb03-3c6563870845"
      },
      "source": [
        "y_test[:15]"
      ],
      "execution_count": 31,
      "outputs": [
        {
          "output_type": "execute_result",
          "data": {
            "text/plain": [
              "array([[ 0.0186652 ],\n",
              "       [-0.38872205],\n",
              "       [-0.54917448],\n",
              "       [-0.18374039],\n",
              "       [-0.61357626],\n",
              "       [-0.63712891],\n",
              "       [-0.6294007 ],\n",
              "       [-0.38025782],\n",
              "       [-0.66252161],\n",
              "       [-0.61688835],\n",
              "       [-0.02954413],\n",
              "       [-0.23820589],\n",
              "       [-0.66252161],\n",
              "       [-0.10535422],\n",
              "       [-0.59775182]])"
            ]
          },
          "metadata": {
            "tags": []
          },
          "execution_count": 31
        }
      ]
    },
    {
      "cell_type": "code",
      "metadata": {
        "id": "J55EZFU6KOlX",
        "colab": {
          "base_uri": "https://localhost:8080/"
        },
        "outputId": "d5672243-0cac-4c9d-bccd-1391d226ed93"
      },
      "source": [
        "mse = mean_squared_error(y_test, y_pred)\r\n",
        "rmse = np.sqrt(mse)\r\n",
        "rmse"
      ],
      "execution_count": 32,
      "outputs": [
        {
          "output_type": "execute_result",
          "data": {
            "text/plain": [
              "0.2956971735086215"
            ]
          },
          "metadata": {
            "tags": []
          },
          "execution_count": 32
        }
      ]
    },
    {
      "cell_type": "markdown",
      "metadata": {
        "id": "GhP6bJQTvnHg"
      },
      "source": [
        "Reference:\r\n",
        "\r\n",
        "[Australian government](https://data.gov.au/)\r\n",
        "\r\n",
        "[Support Vector Regression in Python Using Scikit-Learn](https://heartbeat.fritz.ai/support-vector-regression-in-python-using-scikit-learn-89cc18e933b7)\r\n",
        "\r\n",
        "[Support Vector Regression Tutorial for Machine Learning](https://www.analyticsvidhya.com/blog/2020/03/support-vector-regression-tutorial-for-machine-learning/)"
      ]
    }
  ]
}